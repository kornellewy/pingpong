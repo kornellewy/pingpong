{
 "cells": [
  {
   "cell_type": "code",
   "execution_count": 1,
   "metadata": {},
   "outputs": [
    {
     "name": "stdout",
     "output_type": "stream",
     "text": [
      "['C:\\\\Anaconda3\\\\envs\\\\gpu\\\\python36.zip', 'C:\\\\Anaconda3\\\\envs\\\\gpu\\\\DLLs', 'C:\\\\Anaconda3\\\\envs\\\\gpu\\\\lib', 'C:\\\\Anaconda3\\\\envs\\\\gpu', '', 'C:\\\\Anaconda3\\\\envs\\\\gpu\\\\lib\\\\site-packages', 'C:\\\\Anaconda3\\\\envs\\\\gpu\\\\lib\\\\site-packages\\\\IPython\\\\extensions', 'C:\\\\Users\\\\kjn\\\\.ipython']\n"
     ]
    }
   ],
   "source": [
    "import sys\n",
    "print(sys.path)"
   ]
  },
  {
   "cell_type": "code",
   "execution_count": 2,
   "metadata": {},
   "outputs": [],
   "source": [
    "import turtle"
   ]
  },
  {
   "cell_type": "code",
   "execution_count": 3,
   "metadata": {},
   "outputs": [
    {
     "ename": "TclError",
     "evalue": "invalid command name \".!canvas\"",
     "output_type": "error",
     "traceback": [
      "\u001b[1;31m---------------------------------------------------------------------------\u001b[0m",
      "\u001b[1;31mTclError\u001b[0m                                  Traceback (most recent call last)",
      "\u001b[1;32m<ipython-input-3-d0d4efac01bc>\u001b[0m in \u001b[0;36m<module>\u001b[1;34m\u001b[0m\n\u001b[0;32m     67\u001b[0m \u001b[1;33m\u001b[0m\u001b[0m\n\u001b[0;32m     68\u001b[0m     \u001b[1;31m# ball move\u001b[0m\u001b[1;33m\u001b[0m\u001b[1;33m\u001b[0m\u001b[1;33m\u001b[0m\u001b[0m\n\u001b[1;32m---> 69\u001b[1;33m     \u001b[0mball\u001b[0m\u001b[1;33m.\u001b[0m\u001b[0msetx\u001b[0m\u001b[1;33m(\u001b[0m\u001b[0mball\u001b[0m\u001b[1;33m.\u001b[0m\u001b[0mxcor\u001b[0m\u001b[1;33m(\u001b[0m\u001b[1;33m)\u001b[0m \u001b[1;33m+\u001b[0m \u001b[0mball\u001b[0m\u001b[1;33m.\u001b[0m\u001b[0mdx\u001b[0m\u001b[1;33m)\u001b[0m\u001b[1;33m\u001b[0m\u001b[1;33m\u001b[0m\u001b[0m\n\u001b[0m\u001b[0;32m     70\u001b[0m     \u001b[0mball\u001b[0m\u001b[1;33m.\u001b[0m\u001b[0msety\u001b[0m\u001b[1;33m(\u001b[0m\u001b[0mball\u001b[0m\u001b[1;33m.\u001b[0m\u001b[0mycor\u001b[0m\u001b[1;33m(\u001b[0m\u001b[1;33m)\u001b[0m \u001b[1;33m+\u001b[0m \u001b[0mball\u001b[0m\u001b[1;33m.\u001b[0m\u001b[0mdy\u001b[0m\u001b[1;33m)\u001b[0m\u001b[1;33m\u001b[0m\u001b[1;33m\u001b[0m\u001b[0m\n\u001b[0;32m     71\u001b[0m \u001b[1;33m\u001b[0m\u001b[0m\n",
      "\u001b[1;32mC:\\Anaconda3\\envs\\gpu\\lib\\turtle.py\u001b[0m in \u001b[0;36msetx\u001b[1;34m(self, x)\u001b[0m\n\u001b[0;32m   1806\u001b[0m         \u001b[1;33m(\u001b[0m\u001b[1;36m10.00\u001b[0m\u001b[1;33m,\u001b[0m \u001b[1;36m240.00\u001b[0m\u001b[1;33m)\u001b[0m\u001b[1;33m\u001b[0m\u001b[1;33m\u001b[0m\u001b[0m\n\u001b[0;32m   1807\u001b[0m         \"\"\"\n\u001b[1;32m-> 1808\u001b[1;33m         \u001b[0mself\u001b[0m\u001b[1;33m.\u001b[0m\u001b[0m_goto\u001b[0m\u001b[1;33m(\u001b[0m\u001b[0mVec2D\u001b[0m\u001b[1;33m(\u001b[0m\u001b[0mx\u001b[0m\u001b[1;33m,\u001b[0m \u001b[0mself\u001b[0m\u001b[1;33m.\u001b[0m\u001b[0m_position\u001b[0m\u001b[1;33m[\u001b[0m\u001b[1;36m1\u001b[0m\u001b[1;33m]\u001b[0m\u001b[1;33m)\u001b[0m\u001b[1;33m)\u001b[0m\u001b[1;33m\u001b[0m\u001b[1;33m\u001b[0m\u001b[0m\n\u001b[0m\u001b[0;32m   1809\u001b[0m \u001b[1;33m\u001b[0m\u001b[0m\n\u001b[0;32m   1810\u001b[0m     \u001b[1;32mdef\u001b[0m \u001b[0msety\u001b[0m\u001b[1;33m(\u001b[0m\u001b[0mself\u001b[0m\u001b[1;33m,\u001b[0m \u001b[0my\u001b[0m\u001b[1;33m)\u001b[0m\u001b[1;33m:\u001b[0m\u001b[1;33m\u001b[0m\u001b[1;33m\u001b[0m\u001b[0m\n",
      "\u001b[1;32mC:\\Anaconda3\\envs\\gpu\\lib\\turtle.py\u001b[0m in \u001b[0;36m_goto\u001b[1;34m(self, end)\u001b[0m\n\u001b[0;32m   3156\u001b[0m                       (self.currentLineItem,\n\u001b[0;32m   3157\u001b[0m                       \u001b[0mself\u001b[0m\u001b[1;33m.\u001b[0m\u001b[0mcurrentLine\u001b[0m\u001b[1;33m[\u001b[0m\u001b[1;33m:\u001b[0m\u001b[1;33m]\u001b[0m\u001b[1;33m,\u001b[0m\u001b[1;33m\u001b[0m\u001b[1;33m\u001b[0m\u001b[0m\n\u001b[1;32m-> 3158\u001b[1;33m                       \u001b[0mscreen\u001b[0m\u001b[1;33m.\u001b[0m\u001b[0m_pointlist\u001b[0m\u001b[1;33m(\u001b[0m\u001b[0mself\u001b[0m\u001b[1;33m.\u001b[0m\u001b[0mcurrentLineItem\u001b[0m\u001b[1;33m)\u001b[0m\u001b[1;33m,\u001b[0m\u001b[1;33m\u001b[0m\u001b[1;33m\u001b[0m\u001b[0m\n\u001b[0m\u001b[0;32m   3159\u001b[0m                       self.items[:])\n\u001b[0;32m   3160\u001b[0m                       )\n",
      "\u001b[1;32mC:\\Anaconda3\\envs\\gpu\\lib\\turtle.py\u001b[0m in \u001b[0;36m_pointlist\u001b[1;34m(self, item)\u001b[0m\n\u001b[0;32m    753\u001b[0m         (9.9999999999999982, 0.0)]\n\u001b[0;32m    754\u001b[0m         >>> \"\"\"\n\u001b[1;32m--> 755\u001b[1;33m         \u001b[0mcl\u001b[0m \u001b[1;33m=\u001b[0m \u001b[0mself\u001b[0m\u001b[1;33m.\u001b[0m\u001b[0mcv\u001b[0m\u001b[1;33m.\u001b[0m\u001b[0mcoords\u001b[0m\u001b[1;33m(\u001b[0m\u001b[0mitem\u001b[0m\u001b[1;33m)\u001b[0m\u001b[1;33m\u001b[0m\u001b[1;33m\u001b[0m\u001b[0m\n\u001b[0m\u001b[0;32m    756\u001b[0m         \u001b[0mpl\u001b[0m \u001b[1;33m=\u001b[0m \u001b[1;33m[\u001b[0m\u001b[1;33m(\u001b[0m\u001b[0mcl\u001b[0m\u001b[1;33m[\u001b[0m\u001b[0mi\u001b[0m\u001b[1;33m]\u001b[0m\u001b[1;33m,\u001b[0m \u001b[1;33m-\u001b[0m\u001b[0mcl\u001b[0m\u001b[1;33m[\u001b[0m\u001b[0mi\u001b[0m\u001b[1;33m+\u001b[0m\u001b[1;36m1\u001b[0m\u001b[1;33m]\u001b[0m\u001b[1;33m)\u001b[0m \u001b[1;32mfor\u001b[0m \u001b[0mi\u001b[0m \u001b[1;32min\u001b[0m \u001b[0mrange\u001b[0m\u001b[1;33m(\u001b[0m\u001b[1;36m0\u001b[0m\u001b[1;33m,\u001b[0m \u001b[0mlen\u001b[0m\u001b[1;33m(\u001b[0m\u001b[0mcl\u001b[0m\u001b[1;33m)\u001b[0m\u001b[1;33m,\u001b[0m \u001b[1;36m2\u001b[0m\u001b[1;33m)\u001b[0m\u001b[1;33m]\u001b[0m\u001b[1;33m\u001b[0m\u001b[1;33m\u001b[0m\u001b[0m\n\u001b[0;32m    757\u001b[0m         \u001b[1;32mreturn\u001b[0m  \u001b[0mpl\u001b[0m\u001b[1;33m\u001b[0m\u001b[1;33m\u001b[0m\u001b[0m\n",
      "\u001b[1;32m<string>\u001b[0m in \u001b[0;36mcoords\u001b[1;34m(self, *args, **kw)\u001b[0m\n",
      "\u001b[1;32mC:\\Anaconda3\\envs\\gpu\\lib\\tkinter\\__init__.py\u001b[0m in \u001b[0;36mcoords\u001b[1;34m(self, *args)\u001b[0m\n\u001b[0;32m   2467\u001b[0m         return [self.tk.getdouble(x) for x in\n\u001b[0;32m   2468\u001b[0m                            self.tk.splitlist(\n\u001b[1;32m-> 2469\u001b[1;33m                    self.tk.call((self._w, 'coords') + args))]\n\u001b[0m\u001b[0;32m   2470\u001b[0m     \u001b[1;32mdef\u001b[0m \u001b[0m_create\u001b[0m\u001b[1;33m(\u001b[0m\u001b[0mself\u001b[0m\u001b[1;33m,\u001b[0m \u001b[0mitemType\u001b[0m\u001b[1;33m,\u001b[0m \u001b[0margs\u001b[0m\u001b[1;33m,\u001b[0m \u001b[0mkw\u001b[0m\u001b[1;33m)\u001b[0m\u001b[1;33m:\u001b[0m \u001b[1;31m# Args: (val, val, ..., cnf={})\u001b[0m\u001b[1;33m\u001b[0m\u001b[1;33m\u001b[0m\u001b[0m\n\u001b[0;32m   2471\u001b[0m         \u001b[1;34m\"\"\"Internal function.\"\"\"\u001b[0m\u001b[1;33m\u001b[0m\u001b[1;33m\u001b[0m\u001b[0m\n",
      "\u001b[1;31mTclError\u001b[0m: invalid command name \".!canvas\""
     ]
    }
   ],
   "source": [
    "window = turtle.Screen()\n",
    "window.title(\"Pong by korneliusz lewczuk\")\n",
    "window.bgcolor(\"black\")\n",
    "window.setup(width = 800, height = 600)\n",
    "window.tracer(0)\n",
    "\n",
    "# padel a\n",
    "paddel_a = turtle.Turtle()\n",
    "paddel_a.speed(0)\n",
    "paddel_a.shape(\"square\")\n",
    "paddel_a.shapesize(stretch_wid=5, stretch_len=1)\n",
    "paddel_a.color(\"white\")\n",
    "paddel_a.penup()\n",
    "paddel_a.goto(-350,0)\n",
    "\n",
    "# padel b\n",
    "paddel_b = turtle.Turtle()\n",
    "paddel_b.speed(0)\n",
    "paddel_b.shape(\"square\")\n",
    "paddel_b.shapesize(stretch_wid=5, stretch_len=1)\n",
    "paddel_b.color(\"white\")\n",
    "paddel_b.penup()\n",
    "paddel_b.goto(350,0)\n",
    "\n",
    "# ball\n",
    "ball = turtle.Turtle()\n",
    "ball.speed(0)\n",
    "ball.shape(\"square\")\n",
    "ball.color(\"white\")\n",
    "ball.penup()\n",
    "ball.goto(0,0)\n",
    "ball.dx=0.05\n",
    "ball.dy=0.05\n",
    "\n",
    "# game machanic\n",
    "def paddle_a_up():\n",
    "    y = paddel_a.ycor()\n",
    "    y += 20\n",
    "    paddel_a.sety(y)\n",
    "    \n",
    "def paddle_a_down():\n",
    "    y = paddel_a.ycor()\n",
    "    y -= 20\n",
    "    paddel_a.sety(y)\n",
    "    \n",
    "def paddle_b_up():\n",
    "    y = paddel_b.ycor()\n",
    "    y += 20\n",
    "    paddel_b.sety(y)\n",
    "    \n",
    "def paddle_b_down():\n",
    "    y = paddel_b.ycor()\n",
    "    y -= 20\n",
    "    paddel_b.sety(y)\n",
    "    \n",
    "# key binding\n",
    "window.listen()\n",
    "window.onkeypress(paddle_a_up, \"w\")\n",
    "window.onkeypress(paddle_a_down, \"s\")\n",
    "window.onkeypress(paddle_b_up, \"Up\")\n",
    "window.onkeypress(paddle_b_down, \"Down\")\n",
    "    \n",
    "\n",
    "# that main game loop\n",
    "while True:\n",
    "    window.update()\n",
    "    \n",
    "    # ball move\n",
    "    ball.setx(ball.xcor() + ball.dx)\n",
    "    ball.sety(ball.ycor() + ball.dy)\n",
    "    \n",
    "    # border checking (zachowanie na granicy planszy)\n",
    "    # up border\n",
    "    if ball.ycor() > 290:\n",
    "        ball.sety(290)\n",
    "        # reflection (odbicie pilki od siciany)\n",
    "        ball.dy *= -1\n",
    "    # down border\n",
    "    if ball.ycor() <-290:\n",
    "        ball.sety(-290)\n",
    "        ball.dy *= -1\n",
    "    # left border\n",
    "    if ball.xcor() > 390:\n",
    "        ball.goto(0,0)\n",
    "        ball.dx *= -1\n",
    "    # right border\n",
    "    if ball.xcor() < -390:\n",
    "        ball.goto(0,0)\n",
    "        ball.dx *= -1\n",
    "        \n",
    "    # Paddle and ball collisions\n",
    "    # left paddle\n",
    "    if ball.xcor() > 340 and ball.ycor() < paddel_b.ycor() + 50 and ball.ycor() > paddel_b.ycor() - 50 and ball.xcor() < 350 :\n",
    "        ball.dx *= -1\n",
    "        \n",
    "    28:34  https://www.youtube.com/watch?v=C6jJg9Zan7w&t=873s"
   ]
  },
  {
   "cell_type": "code",
   "execution_count": null,
   "metadata": {},
   "outputs": [],
   "source": []
  }
 ],
 "metadata": {
  "kernelspec": {
   "display_name": "Python 3",
   "language": "python",
   "name": "python3"
  },
  "language_info": {
   "codemirror_mode": {
    "name": "ipython",
    "version": 3
   },
   "file_extension": ".py",
   "mimetype": "text/x-python",
   "name": "python",
   "nbconvert_exporter": "python",
   "pygments_lexer": "ipython3",
   "version": "3.6.7"
  }
 },
 "nbformat": 4,
 "nbformat_minor": 2
}
